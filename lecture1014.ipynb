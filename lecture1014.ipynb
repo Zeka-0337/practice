{
 "cells": [
  {
   "cell_type": "code",
   "execution_count": 74,
   "metadata": {},
   "outputs": [],
   "source": [
    "library(MASS)\n",
    "library(ISLR)\n",
    "library(dplyr)\n",
    "library(ggplot2)\n",
    "library(car)\n",
    "library(caret)\n",
    "library(lattice)"
   ]
  },
  {
   "cell_type": "code",
   "execution_count": 75,
   "metadata": {},
   "outputs": [
    {
     "data": {
      "text/html": [
       "<ol class=list-inline>\n",
       "\t<li>'class'</li>\n",
       "\t<li>'posterior'</li>\n",
       "\t<li>'x'</li>\n",
       "</ol>\n"
      ],
      "text/latex": [
       "\\begin{enumerate*}\n",
       "\\item 'class'\n",
       "\\item 'posterior'\n",
       "\\item 'x'\n",
       "\\end{enumerate*}\n"
      ],
      "text/markdown": [
       "1. 'class'\n",
       "2. 'posterior'\n",
       "3. 'x'\n",
       "\n",
       "\n"
      ],
      "text/plain": [
       "[1] \"class\"     \"posterior\" \"x\"        "
      ]
     },
     "metadata": {},
     "output_type": "display_data"
    }
   ],
   "source": [
    "names(lda.pred)"
   ]
  },
  {
   "cell_type": "code",
   "execution_count": 76,
   "metadata": {
    "scrolled": false
   },
   "outputs": [
    {
     "data": {
      "text/plain": [
       "Call:\n",
       "lda(default ~ balance, data = Default)\n",
       "\n",
       "Prior probabilities of groups:\n",
       "    No    Yes \n",
       "0.9667 0.0333 \n",
       "\n",
       "Group means:\n",
       "      balance\n",
       "No   803.9438\n",
       "Yes 1747.8217\n",
       "\n",
       "Coefficients of linear discriminants:\n",
       "                LD1\n",
       "balance 0.002206916"
      ]
     },
     "metadata": {},
     "output_type": "display_data"
    }
   ],
   "source": [
    "lda1 = lda(data = Default, default~balance)\n",
    "lda1"
   ]
  },
  {
   "cell_type": "code",
   "execution_count": 77,
   "metadata": {},
   "outputs": [],
   "source": [
    "pred <- predict(lda1)"
   ]
  },
  {
   "cell_type": "code",
   "execution_count": 78,
   "metadata": {},
   "outputs": [],
   "source": [
    "Default$probability <- pred$posterior[,2]"
   ]
  },
  {
   "cell_type": "code",
   "execution_count": 79,
   "metadata": {},
   "outputs": [],
   "source": [
    "#Default$student <- ifelse(Default$probability >= 0.5, \"Yes\", \"No\")"
   ]
  },
  {
   "cell_type": "code",
   "execution_count": 84,
   "metadata": {},
   "outputs": [],
   "source": [
    "Default$class <- pred$class"
   ]
  },
  {
   "cell_type": "code",
   "execution_count": 85,
   "metadata": {},
   "outputs": [],
   "source": [
    "Default$default.into.value = ifelse(Default$default == \"No\", 0, 1)"
   ]
  },
  {
   "cell_type": "code",
   "execution_count": 86,
   "metadata": {
    "scrolled": false
   },
   "outputs": [
    {
     "data": {
      "image/png": "[encoded data removed]",
      "text/plain": [
       "plot without title"
      ]
     },
     "metadata": {},
     "output_type": "display_data"
    }
   ],
   "source": [
    "ggplot(data= Default) + geom_point(aes(balance, default.into.value , col = 'blue')) +\n",
    "geom_point(aes(x=balance, y=probability, col = 'red', alpha = 0.1))"
   ]
  },
  {
   "cell_type": "code",
   "execution_count": 87,
   "metadata": {},
   "outputs": [
    {
     "data": {
      "text/plain": [
       "Confusion Matrix and Statistics\n",
       "\n",
       "     \n",
       "        No  Yes\n",
       "  No  9643  257\n",
       "  Yes   24   76\n",
       "                                          \n",
       "               Accuracy : 0.9719          \n",
       "                 95% CI : (0.9685, 0.9751)\n",
       "    No Information Rate : 0.9667          \n",
       "    P-Value [Acc > NIR] : 0.001652        \n",
       "                                          \n",
       "                  Kappa : 0.3409          \n",
       "                                          \n",
       " Mcnemar's Test P-Value : < 2.2e-16       \n",
       "                                          \n",
       "            Sensitivity : 0.9975          \n",
       "            Specificity : 0.2282          \n",
       "         Pos Pred Value : 0.9740          \n",
       "         Neg Pred Value : 0.7600          \n",
       "             Prevalence : 0.9667          \n",
       "         Detection Rate : 0.9643          \n",
       "   Detection Prevalence : 0.9900          \n",
       "      Balanced Accuracy : 0.6129          \n",
       "                                          \n",
       "       'Positive' Class : No              \n",
       "                                          "
      ]
     },
     "metadata": {},
     "output_type": "display_data"
    }
   ],
   "source": [
    "confusionMatrix(table(Default$class, Default$default))"
   ]
  },
  {
   "cell_type": "code",
   "execution_count": null,
   "metadata": {},
   "outputs": [],
   "source": []
  }
 ],
 "metadata": {
  "kernelspec": {
   "display_name": "R",
   "language": "R",
   "name": "ir"
  },
  "language_info": {
   "codemirror_mode": "r",
   "file_extension": ".r",
   "mimetype": "text/x-r-source",
   "name": "R",
   "pygments_lexer": "r",
   "version": "3.6.1"
  }
 },
 "nbformat": 4,
 "nbformat_minor": 4
}
